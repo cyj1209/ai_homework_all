{
 "cells": [
  {
   "cell_type": "markdown",
   "metadata": {},
   "source": [
    "# 一、 为什么股票预测问题容易出现过拟合，也就是在训练时结果很好，在真实环境中结果没那么好。"
   ]
  },
  {
   "cell_type": "markdown",
   "metadata": {},
   "source": [
    " - 股票存在数据很多的异常点（不符合趋势的点），我们在训练的时候通常会去拟合这些点。\n",
    " - 但是在实际情况这些点通常是受外界不可控因素（政策，灾难，经济大环境等）干扰，无法在模型中体现出来，所以表现出训练时结果很好，在真实环境中遇到外界不可控因素干扰是表现出结果不尽人意。"
   ]
  },
  {
   "cell_type": "markdown",
   "metadata": {},
   "source": [
    "# 二、 Prophet与ARMA/ARIMA相比，优势在哪些地方"
   ]
  },
  {
   "cell_type": "markdown",
   "metadata": {},
   "source": [
    "- Prophet\n",
    "    - 作为一个时间序列的工具，优点就是不需要特征工程就可以得到趋势，季节因素和节假日因素，但是这同时也是它的缺点之一，它无法利用更多的信息\n",
    "- ARMA(Auto Regressive and Moving Average Model)自回归移动平均模型\n",
    "    - 结合了AR和MA模型，AR可以解决当前数据与后期数据之间的关系，MA则可以解决随机变动也就是噪声的问题。缺点的话就是只能用于分析平稳时间序列。\n",
    "- ARIMA(Auto Regressive Integrate Moving Average Model)差分自回归移动平均模型\n",
    "    - 在ARMA中引入I（差分模型），通过过差分可以用于处理非平稳时间序列。"
   ]
  },
  {
   "cell_type": "code",
   "execution_count": null,
   "metadata": {},
   "outputs": [],
   "source": []
  }
 ],
 "metadata": {
  "kernelspec": {
   "display_name": "Python 3",
   "language": "python",
   "name": "python3"
  },
  "language_info": {
   "codemirror_mode": {
    "name": "ipython",
    "version": 3
   },
   "file_extension": ".py",
   "mimetype": "text/x-python",
   "name": "python",
   "nbconvert_exporter": "python",
   "pygments_lexer": "ipython3",
   "version": "3.7.6"
  }
 },
 "nbformat": 4,
 "nbformat_minor": 4
}
