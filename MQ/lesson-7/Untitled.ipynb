{
 "cells": [
  {
   "cell_type": "code",
   "execution_count": 56,
   "metadata": {},
   "outputs": [],
   "source": [
    "import numpy as np\n",
    "from matplotlib import pyplot as plt"
   ]
  },
  {
   "cell_type": "code",
   "execution_count": 31,
   "metadata": {},
   "outputs": [],
   "source": [
    "def unpickle(file):\n",
    "    import pickle\n",
    "    with open(file, 'rb') as fo:\n",
    "        dict = pickle.load(fo, encoding='bytes')\n",
    "    return dict"
   ]
  },
  {
   "cell_type": "code",
   "execution_count": 40,
   "metadata": {},
   "outputs": [],
   "source": [
    "label =  unpickle('../../../cifar-10/batches.meta')"
   ]
  },
  {
   "cell_type": "code",
   "execution_count": 41,
   "metadata": {},
   "outputs": [
    {
     "data": {
      "text/plain": [
       "{b'num_cases_per_batch': 10000,\n",
       " b'label_names': [b'airplane',\n",
       "  b'automobile',\n",
       "  b'bird',\n",
       "  b'cat',\n",
       "  b'deer',\n",
       "  b'dog',\n",
       "  b'frog',\n",
       "  b'horse',\n",
       "  b'ship',\n",
       "  b'truck'],\n",
       " b'num_vis': 3072}"
      ]
     },
     "execution_count": 41,
     "metadata": {},
     "output_type": "execute_result"
    }
   ],
   "source": [
    "label"
   ]
  },
  {
   "cell_type": "code",
   "execution_count": 42,
   "metadata": {},
   "outputs": [],
   "source": [
    "base_name = 'data_batch_'\n",
    "base_path = '../../../cifar-10/'\n",
    "dic = {}\n",
    "for i in range(1,6):\n",
    "    file_path = base_path + base_name + str(i)\n",
    "    dic.update(unpickle(file_path)) "
   ]
  },
  {
   "cell_type": "code",
   "execution_count": 44,
   "metadata": {},
   "outputs": [
    {
     "data": {
      "text/plain": [
       "dict_keys([b'batch_label', b'labels', b'data', b'filenames'])"
      ]
     },
     "execution_count": 44,
     "metadata": {},
     "output_type": "execute_result"
    }
   ],
   "source": [
    "dic.keys()"
   ]
  },
  {
   "cell_type": "code",
   "execution_count": 52,
   "metadata": {},
   "outputs": [],
   "source": [
    "data = np.array(dic[b'data']) "
   ]
  },
  {
   "cell_type": "code",
   "execution_count": 53,
   "metadata": {},
   "outputs": [
    {
     "data": {
      "text/plain": [
       "(10000, 3072)"
      ]
     },
     "execution_count": 53,
     "metadata": {},
     "output_type": "execute_result"
    }
   ],
   "source": [
    "data.shape"
   ]
  },
  {
   "cell_type": "code",
   "execution_count": 75,
   "metadata": {},
   "outputs": [
    {
     "data": {
      "text/plain": [
       "array([[[255, 252, 253],\n",
       "        [250, 238, 233],\n",
       "        [245, 241, 232],\n",
       "        ...,\n",
       "        [190, 123,  87],\n",
       "        [122,  99, 145],\n",
       "        [141, 220, 253]],\n",
       "\n",
       "       [[255, 255, 229],\n",
       "        [123, 155, 113],\n",
       "        [117, 140, 150],\n",
       "        ...,\n",
       "        [145, 130, 146],\n",
       "        [146, 154, 141],\n",
       "        [141, 227, 255]],\n",
       "\n",
       "       [[255, 253, 253],\n",
       "        [199, 135, 135],\n",
       "        [137, 139, 132],\n",
       "        ...,\n",
       "        [255, 255, 255],\n",
       "        [255, 255, 255],\n",
       "        [253, 252, 254]],\n",
       "\n",
       "       ...,\n",
       "\n",
       "       [[151,  52,  78],\n",
       "        [137, 135, 135],\n",
       "        [135, 125,  58],\n",
       "        ...,\n",
       "        [116, 111, 110],\n",
       "        [119, 125,  99],\n",
       "        [102,  84,  83]],\n",
       "\n",
       "       [[165,  41,  14],\n",
       "        [ 96,  97,  53],\n",
       "        [ 34,  16,  42],\n",
       "        ...,\n",
       "        [148, 151, 161],\n",
       "        [122,  22,  17],\n",
       "        [ 17,   7, 100]],\n",
       "\n",
       "       [[234, 216, 241],\n",
       "        [254, 252, 253],\n",
       "        [252, 255, 185],\n",
       "        ...,\n",
       "        [253, 253, 252],\n",
       "        [252, 231, 172],\n",
       "        [173, 231, 248]]], dtype=uint8)"
      ]
     },
     "execution_count": 75,
     "metadata": {},
     "output_type": "execute_result"
    }
   ],
   "source": [
    "data[0].reshape(32,32,3)"
   ]
  },
  {
   "cell_type": "code",
   "execution_count": 84,
   "metadata": {},
   "outputs": [
    {
     "data": {
      "text/plain": [
       "array([255, 255, 254], dtype=uint8)"
      ]
     },
     "execution_count": 84,
     "metadata": {},
     "output_type": "execute_result"
    }
   ],
   "source": [
    "r = data[0][:1024]\n",
    "g = data[0][1024:2048]\n",
    "b = data[0][2048:]\n",
    "rgb = np.array([list(i) for i in zip(r,g,b)])  \n",
    "rgb[0]"
   ]
  },
  {
   "cell_type": "code",
   "execution_count": 85,
   "metadata": {
    "collapsed": true,
    "jupyter": {
     "outputs_hidden": true
    }
   },
   "outputs": [
    {
     "data": {
      "text/plain": [
       "array([[[255, 255, 254],\n",
       "        [252, 252, 252],\n",
       "        [253, 252, 254],\n",
       "        ...,\n",
       "        [165, 177, 184],\n",
       "        [243, 246, 247],\n",
       "        [254, 253, 252]],\n",
       "\n",
       "       [[255, 255, 254],\n",
       "        [252, 252, 252],\n",
       "        [254, 254, 255],\n",
       "        ...,\n",
       "        [130, 144, 161],\n",
       "        [225, 232, 239],\n",
       "        [253, 255, 255]],\n",
       "\n",
       "       [[255, 255, 255],\n",
       "        [254, 254, 254],\n",
       "        [248, 247, 249],\n",
       "        ...,\n",
       "        [141, 155, 175],\n",
       "        [220, 227, 235],\n",
       "        [253, 255, 255]],\n",
       "\n",
       "       ...,\n",
       "\n",
       "       [[233, 234, 234],\n",
       "        [216, 216, 216],\n",
       "        [241, 241, 241],\n",
       "        ...,\n",
       "        [  9,  11,  11],\n",
       "        [ 18,  19,  19],\n",
       "        [169, 171, 170]],\n",
       "\n",
       "       [[255, 255, 255],\n",
       "        [255, 255, 255],\n",
       "        [253, 253, 253],\n",
       "        ...,\n",
       "        [ 21,  23,  22],\n",
       "        [113, 115, 114],\n",
       "        [235, 237, 236]],\n",
       "\n",
       "       [[255, 255, 255],\n",
       "        [251, 251, 251],\n",
       "        [253, 253, 253],\n",
       "        ...,\n",
       "        [172, 174, 173],\n",
       "        [230, 232, 231],\n",
       "        [247, 248, 248]]], dtype=uint8)"
      ]
     },
     "execution_count": 85,
     "metadata": {},
     "output_type": "execute_result"
    }
   ],
   "source": [
    "rgb.reshape(32,32,3)"
   ]
  },
  {
   "cell_type": "code",
   "execution_count": 86,
   "metadata": {},
   "outputs": [
    {
     "data": {
      "image/png": "[encoded data removed]",
      "text/plain": [
       "<Figure size 432x288 with 1 Axes>"
      ]
     },
     "metadata": {
      "needs_background": "light"
     },
     "output_type": "display_data"
    }
   ],
   "source": [
    "plt.imshow(rgb.reshape(32,32,3))\n",
    "plt.show()"
   ]
  },
  {
   "cell_type": "code",
   "execution_count": 64,
   "metadata": {},
   "outputs": [
    {
     "data": {
      "text/plain": [
       "1024"
      ]
     },
     "execution_count": 64,
     "metadata": {},
     "output_type": "execute_result"
    }
   ],
   "source": [
    "32*32"
   ]
  },
  {
   "cell_type": "code",
   "execution_count": 87,
   "metadata": {},
   "outputs": [],
   "source": [
    "# 我的数据最终要怎么送进去？"
   ]
  },
  {
   "cell_type": "markdown",
   "metadata": {},
   "source": []
  }
 ],
 "metadata": {
  "kernelspec": {
   "display_name": "Python 3",
   "language": "python",
   "name": "python3"
  },
  "language_info": {
   "codemirror_mode": {
    "name": "ipython",
    "version": 3
   },
   "file_extension": ".py",
   "mimetype": "text/x-python",
   "name": "python",
   "nbconvert_exporter": "python",
   "pygments_lexer": "ipython3",
   "version": "3.7.6"
  }
 },
 "nbformat": 4,
 "nbformat_minor": 4
}
