{
 "cells": [
  {
   "cell_type": "code",
   "execution_count": 116,
   "metadata": {},
   "outputs": [],
   "source": [
    "from gensim.models import word2vec\n",
    "import re\n",
    "import jieba"
   ]
  },
  {
   "cell_type": "code",
   "execution_count": 143,
   "metadata": {},
   "outputs": [],
   "source": [
    "with open('./cn_stopwords.txt') as f:\n",
    "    stopwords = [i[:-1]  for i in f.readlines()]"
   ]
  },
  {
   "cell_type": "code",
   "execution_count": 142,
   "metadata": {},
   "outputs": [],
   "source": [
    "with open('./three_kingdoms.txt') as f :\n",
    "    document = f.read()"
   ]
  },
  {
   "cell_type": "code",
   "execution_count": 144,
   "metadata": {},
   "outputs": [],
   "source": [
    "#去掉分节阅读将文章链接起来\n",
    "r = re.compile(r'\\n--[\\s|\\S]{1,20}分节阅读 \\d+\\n\\n')\n",
    "document = r.sub('',document) "
   ]
  },
  {
   "cell_type": "code",
   "execution_count": 145,
   "metadata": {},
   "outputs": [],
   "source": [
    "document = document.replace('且听下文分解','')"
   ]
  },
  {
   "cell_type": "code",
   "execution_count": 146,
   "metadata": {},
   "outputs": [
    {
     "data": {
      "text/plain": [
       "602144"
      ]
     },
     "execution_count": 146,
     "metadata": {},
     "output_type": "execute_result"
    }
   ],
   "source": [
    "len(document)"
   ]
  },
  {
   "cell_type": "code",
   "execution_count": 147,
   "metadata": {
    "tags": []
   },
   "outputs": [],
   "source": [
    " jieba.load_userdict('./three_king_keywords.txt')\n",
    "document_cut = jieba.cut(document)\n",
    "sentence_list = [ word for word in document_cut if word not in stopwords ]"
   ]
  },
  {
   "cell_type": "code",
   "execution_count": 148,
   "metadata": {},
   "outputs": [
    {
     "data": {
      "text/plain": [
       "['三国演义']"
      ]
     },
     "execution_count": 148,
     "metadata": {},
     "output_type": "execute_result"
    }
   ],
   "source": [
    "sentence_list[:1]"
   ]
  },
  {
   "cell_type": "code",
   "execution_count": 149,
   "metadata": {},
   "outputs": [],
   "source": [
    "sentence = ' '.join(sentence_list) "
   ]
  },
  {
   "cell_type": "code",
   "execution_count": 150,
   "metadata": {},
   "outputs": [],
   "source": [
    "res = sentence.encode('utf-8')\n",
    "with open('res.txt', 'wb') as f2:\n",
    "    f2.write(res)"
   ]
  },
  {
   "cell_type": "code",
   "execution_count": 151,
   "metadata": {},
   "outputs": [],
   "source": [
    "sentence = word2vec.LineSentence('./res.txt')"
   ]
  },
  {
   "cell_type": "code",
   "execution_count": 61,
   "metadata": {},
   "outputs": [
    {
     "data": {
      "text/plain": [
       "<gensim.models.word2vec.LineSentence at 0x7f94c8c040d0>"
      ]
     },
     "execution_count": 61,
     "metadata": {},
     "output_type": "execute_result"
    }
   ],
   "source": [
    "sentence"
   ]
  },
  {
   "cell_type": "code",
   "execution_count": 102,
   "metadata": {},
   "outputs": [],
   "source": [
    "model = word2vec.Word2Vec(sentence, size=100, window=3, min_count=1)"
   ]
  },
  {
   "cell_type": "code",
   "execution_count": 103,
   "metadata": {
    "tags": []
   },
   "outputs": [
    {
     "name": "stdout",
     "output_type": "stream",
     "text": [
      "0.9998081\n"
     ]
    }
   ],
   "source": [
    "print(model.wv.similarity('刘备','张飞'))"
   ]
  },
  {
   "cell_type": "code",
   "execution_count": 107,
   "metadata": {
    "tags": []
   },
   "outputs": [
    {
     "name": "stdout",
     "output_type": "stream",
     "text": [
      "0.9876096\n"
     ]
    }
   ],
   "source": [
    "print(model.wv.similarity('孟德','曹操'))"
   ]
  },
  {
   "cell_type": "code",
   "execution_count": 65,
   "metadata": {
    "tags": []
   },
   "outputs": [
    {
     "name": "stdout",
     "output_type": "stream",
     "text": [
      "0.9998894\n"
     ]
    }
   ],
   "source": [
    "print(model.wv.similarity('刘备','吕布'))"
   ]
  },
  {
   "cell_type": "code",
   "execution_count": 66,
   "metadata": {
    "tags": []
   },
   "outputs": [
    {
     "name": "stdout",
     "output_type": "stream",
     "text": [
      "0.9998179\n"
     ]
    }
   ],
   "source": [
    "print(model.wv.similarity('刘备','刘玄德'))"
   ]
  },
  {
   "cell_type": "code",
   "execution_count": 75,
   "metadata": {
    "tags": []
   },
   "outputs": [
    {
     "name": "stdout",
     "output_type": "stream",
     "text": [
      "0.9986571\n"
     ]
    }
   ],
   "source": [
    "print(model.wv.similarity('刘备','宦官'))"
   ]
  },
  {
   "cell_type": "code",
   "execution_count": 68,
   "metadata": {
    "tags": []
   },
   "outputs": [
    {
     "name": "stdout",
     "output_type": "stream",
     "text": [
      "0.9997605\n"
     ]
    }
   ],
   "source": [
    "print(model.wv.similarity('诸葛亮','刘玄德'))"
   ]
  },
  {
   "cell_type": "code",
   "execution_count": 108,
   "metadata": {
    "tags": []
   },
   "outputs": [
    {
     "name": "stdout",
     "output_type": "stream",
     "text": [
      "[('叱', 0.9990991353988647), ('瑜', 0.9990978240966797), ('屯兵', 0.9990888833999634), ('承', 0.9990861415863037), ('丞相', 0.999083399772644), ('否', 0.9990788698196411), ('左右', 0.9990770220756531), ('死', 0.9990746974945068), ('卿', 0.9990687370300293), ('天子', 0.9990676045417786)]\n"
     ]
    }
   ],
   "source": [
    "print(model.wv.most_similar(positive=['将军', '军师'],negative=['宦官']))"
   ]
  },
  {
   "cell_type": "code",
   "execution_count": 109,
   "metadata": {
    "tags": []
   },
   "outputs": [
    {
     "name": "stdout",
     "output_type": "stream",
     "text": [
      "[('将校', 0.9925270080566406), ('马舞刀', 0.9922454357147217), ('其计', 0.9922010898590088), ('御林军', 0.9922007322311401), ('渊', 0.9921470880508423), ('布', 0.9921422004699707), ('甲兵', 0.992141842842102), ('厉声', 0.9921412467956543), ('只恐', 0.992134690284729), ('孙峻', 0.9921169281005859)]\n"
     ]
    }
   ],
   "source": [
    "print(model.wv.most_similar(positive=['吕布','奉先']))"
   ]
  },
  {
   "cell_type": "code",
   "execution_count": 110,
   "metadata": {
    "tags": []
   },
   "outputs": [
    {
     "name": "stdout",
     "output_type": "stream",
     "text": [
      "[('不敢', 0.9999548196792603), ('人马', 0.9999476075172424), ('吕布', 0.9999433159828186), ('次日', 0.9999433159828186), ('军马', 0.9999428391456604), ('蜀兵', 0.9999427795410156), ('马超', 0.9999415874481201), ('守', 0.9999403357505798), ('只得', 0.9999396204948425), ('百姓', 0.9999395608901978)]\n"
     ]
    }
   ],
   "source": [
    "print(model.wv.most_similar(positive=['枪','剑','戟','刀']))"
   ]
  },
  {
   "cell_type": "code",
   "execution_count": 113,
   "metadata": {},
   "outputs": [],
   "source": [
    "x = model.wv.get_vector('曹操') + model.wv.get_vector('刘备') - model.wv.get_vector('张飞')"
   ]
  },
  {
   "cell_type": "code",
   "execution_count": 114,
   "metadata": {},
   "outputs": [
    {
     "data": {
      "text/plain": [
       "[('刘备', 0.999957799911499),\n",
       " ('主公', 0.9999354481697083),\n",
       " ('今日', 0.9999308586120605),\n",
       " ('此人', 0.9999274611473083),\n",
       " ('不可', 0.9999260902404785),\n",
       " ('耶', 0.9999235272407532),\n",
       " ('东吴', 0.9999188780784607),\n",
       " ('懿', 0.9999157190322876),\n",
       " ('陛下', 0.999915361404419),\n",
       " ('臣', 0.9999138116836548)]"
      ]
     },
     "execution_count": 114,
     "metadata": {},
     "output_type": "execute_result"
    }
   ],
   "source": [
    "model.wv.most_similar(positive=[x])"
   ]
  },
  {
   "cell_type": "code",
   "execution_count": 152,
   "metadata": {},
   "outputs": [],
   "source": [
    "model = word2vec.Word2Vec(sentence, size=1000, window=5, min_count=5,workers=5)"
   ]
  },
  {
   "cell_type": "code",
   "execution_count": 153,
   "metadata": {},
   "outputs": [],
   "source": [
    "x = model.wv.get_vector('曹操') + model.wv.get_vector('刘备') - model.wv.get_vector('张飞')"
   ]
  },
  {
   "cell_type": "code",
   "execution_count": 154,
   "metadata": {},
   "outputs": [
    {
     "data": {
      "text/plain": [
       "[('问', 0.9999100565910339),\n",
       " ('丞相', 0.9999097585678101),\n",
       " ('孔明曰', 0.9998971223831177),\n",
       " ('耶', 0.9998934268951416),\n",
       " ('欲', 0.9998835325241089),\n",
       " ('操', 0.9998828768730164),\n",
       " ('不可', 0.9998763203620911),\n",
       " ('何故', 0.9998472929000854),\n",
       " ('瑜', 0.9998462200164795),\n",
       " ('言', 0.9998372197151184)]"
      ]
     },
     "execution_count": 154,
     "metadata": {},
     "output_type": "execute_result"
    }
   ],
   "source": [
    "model.wv.most_similar(positive=[x])"
   ]
  },
  {
   "cell_type": "code",
   "execution_count": 155,
   "metadata": {
    "tags": []
   },
   "outputs": [
    {
     "name": "stdout",
     "output_type": "stream",
     "text": [
      "0.9998711\n"
     ]
    }
   ],
   "source": [
    "print(model.wv.similarity('刘备','宦官'))"
   ]
  },
  {
   "cell_type": "code",
   "execution_count": 156,
   "metadata": {
    "tags": []
   },
   "outputs": [
    {
     "name": "stdout",
     "output_type": "stream",
     "text": [
      "0.9997723\n"
     ]
    }
   ],
   "source": [
    "print(model.wv.similarity('刘备','刀'))"
   ]
  },
  {
   "cell_type": "code",
   "execution_count": 157,
   "metadata": {},
   "outputs": [
    {
     "data": {
      "text/plain": [
       "[('军', 0.9999562501907349),\n",
       " ('背后', 0.9999507665634155),\n",
       " ('赶来', 0.9999484419822693),\n",
       " ('一彪', 0.9999433755874634),\n",
       " ('引', 0.9999361038208008),\n",
       " ('却说', 0.9999359250068665),\n",
       " ('兵', 0.9999312162399292),\n",
       " ('张飞', 0.9999308586120605),\n",
       " ('喊声', 0.9999299049377441),\n",
       " ('大败', 0.9999233484268188)]"
      ]
     },
     "execution_count": 157,
     "metadata": {},
     "output_type": "execute_result"
    }
   ],
   "source": [
    "x = model.wv.get_vector('曹操') - model.wv.get_vector('主公') +  model.wv.get_vector('百姓')\n",
    "model.wv.most_similar(positive=[x])"
   ]
  },
  {
   "cell_type": "markdown",
   "metadata": {},
   "source": []
  },
  {
   "cell_type": "code",
   "execution_count": null,
   "metadata": {},
   "outputs": [],
   "source": []
  }
 ],
 "metadata": {
  "kernelspec": {
   "display_name": "Python 3",
   "language": "python",
   "name": "python3"
  },
  "language_info": {
   "codemirror_mode": {
    "name": "ipython",
    "version": 3
   },
   "file_extension": ".py",
   "mimetype": "text/x-python",
   "name": "python",
   "nbconvert_exporter": "python",
   "pygments_lexer": "ipython3",
   "version": "3.7.6"
  }
 },
 "nbformat": 4,
 "nbformat_minor": 4
}
