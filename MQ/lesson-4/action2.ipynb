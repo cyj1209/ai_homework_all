{
 "cells": [
  {
   "cell_type": "code",
   "execution_count": 37,
   "metadata": {
    "colab": {
     "base_uri": "https://localhost:8080/",
     "height": 139
    },
    "colab_type": "code",
    "executionInfo": {
     "elapsed": 4102,
     "status": "ok",
     "timestamp": 1597304686673,
     "user": {
      "displayName": "yongjun cao",
      "photoUrl": "",
      "userId": "03899306395699434223"
     },
     "user_tz": -540
    },
    "id": "aJ5YvZLv8kqH",
    "outputId": "f7e8505a-e977-4cba-d9ed-d79458ca9a28"
   },
   "outputs": [
    {
     "name": "stdout",
     "output_type": "stream",
     "text": [
      "Requirement already satisfied: surprise in /usr/local/lib/python3.6/dist-packages (0.1)\n",
      "Requirement already satisfied: scikit-surprise in /usr/local/lib/python3.6/dist-packages (from surprise) (1.1.1)\n",
      "Requirement already satisfied: joblib>=0.11 in /usr/local/lib/python3.6/dist-packages (from scikit-surprise->surprise) (0.16.0)\n",
      "Requirement already satisfied: numpy>=1.11.2 in /usr/local/lib/python3.6/dist-packages (from scikit-surprise->surprise) (1.18.5)\n",
      "Requirement already satisfied: six>=1.10.0 in /usr/local/lib/python3.6/dist-packages (from scikit-surprise->surprise) (1.15.0)\n",
      "Requirement already satisfied: scipy>=1.0.0 in /usr/local/lib/python3.6/dist-packages (from scikit-surprise->surprise) (1.4.1)\n"
     ]
    }
   ],
   "source": [
    "!pip install surprise"
   ]
  },
  {
   "cell_type": "code",
   "execution_count": 38,
   "metadata": {
    "colab": {},
    "colab_type": "code",
    "executionInfo": {
     "elapsed": 1755,
     "status": "ok",
     "timestamp": 1597304686674,
     "user": {
      "displayName": "yongjun cao",
      "photoUrl": "",
      "userId": "03899306395699434223"
     },
     "user_tz": -540
    },
    "id": "HcJfa6IB4ADa"
   },
   "outputs": [],
   "source": [
    "import numpy as np\n",
    "import pandas as pd\n",
    "from surprise import Reader,Dataset,SVD,accuracy,SVDpp\n",
    "from surprise.model_selection import KFold\n",
    "import time"
   ]
  },
  {
   "cell_type": "code",
   "execution_count": 39,
   "metadata": {
    "colab": {
     "base_uri": "https://localhost:8080/",
     "height": 54
    },
    "colab_type": "code",
    "executionInfo": {
     "elapsed": 467,
     "status": "ok",
     "timestamp": 1597304686892,
     "user": {
      "displayName": "yongjun cao",
      "photoUrl": "",
      "userId": "03899306395699434223"
     },
     "user_tz": -540
    },
    "id": "NjEIW4SvckF1",
    "outputId": "35d9bd3e-47c4-4d19-f650-9c5dd2b79255"
   },
   "outputs": [
    {
     "name": "stdout",
     "output_type": "stream",
     "text": [
      "Drive already mounted at /content/drive; to attempt to forcibly remount, call drive.mount(\"/content/drive\", force_remount=True).\n"
     ]
    }
   ],
   "source": [
    "from google.colab import drive\n",
    "import os\n",
    "drive.mount('/content/drive')\n",
    "os.chdir('/content/drive/My Drive/Colab Notebooks/')"
   ]
  },
  {
   "cell_type": "code",
   "execution_count": 6,
   "metadata": {
    "colab": {
     "base_uri": "https://localhost:8080/",
     "height": 122
    },
    "colab_type": "code",
    "executionInfo": {
     "elapsed": 129498,
     "status": "ok",
     "timestamp": 1597300894122,
     "user": {
      "displayName": "yongjun cao",
      "photoUrl": "",
      "userId": "03899306395699434223"
     },
     "user_tz": -540
    },
    "id": "OduLmkO74Opo",
    "outputId": "326e6486-6caa-4d47-d3a2-e4a9fefadcd2"
   },
   "outputs": [
    {
     "name": "stdout",
     "output_type": "stream",
     "text": [
      "RMSE: 0.8718\n",
      "RMSE: 0.8719\n",
      "RMSE: 0.8734\n",
      "user: 196        item: 302        r_ui = None   est = 4.10   {'was_impossible': False}\n",
      "128.920494556427\n"
     ]
    }
   ],
   "source": [
    "start_time = time.time()\n",
    "reader = Reader(line_format='user item rating',sep=',',skip_lines=1)\n",
    "data = Dataset.load_from_file('ratings.csv',reader=reader)\n",
    "train_set = data.build_full_trainset()\n",
    "algo = SVD(biased=False)\n",
    "kf = KFold(n_splits=3)\n",
    "for trainset,testset in kf.split(data):\n",
    "  algo.fit(trainset)\n",
    "  predict = algo.test(testset)\n",
    "  accuracy.rmse(predict,verbose=True)\n",
    "pred = algo.predict('196','302',verbose=True)\n",
    "finish_time = time.time()\n",
    "print(finish_time - start_time)\n"
   ]
  },
  {
   "cell_type": "markdown",
   "metadata": {
    "colab_type": "text",
    "id": "kg2JwCNX-JaD"
   },
   "source": []
  },
  {
   "cell_type": "code",
   "execution_count": 40,
   "metadata": {
    "colab": {},
    "colab_type": "code",
    "executionInfo": {
     "elapsed": 600,
     "status": "ok",
     "timestamp": 1597304695982,
     "user": {
      "displayName": "yongjun cao",
      "photoUrl": "",
      "userId": "03899306395699434223"
     },
     "user_tz": -540
    },
    "id": "L0FglOQE8i7S"
   },
   "outputs": [],
   "source": [
    "def test(algo):\n",
    "  start_time = time.time()\n",
    "  reader = Reader(line_format='user item rating',sep=',',skip_lines=1)\n",
    "  data = Dataset.load_from_file('ratings.csv',reader=reader)\n",
    "  train_set = data.build_full_trainset()\n",
    "  kf = KFold(n_splits=3)\n",
    "  for trainset,testset in kf.split(data):\n",
    "    algo.fit(trainset)\n",
    "    predict = algo.test(testset)\n",
    "    accuracy.rmse(predict,verbose=True)\n",
    "  pred = algo.predict('196','302',verbose=True)\n",
    "  finish_time = time.time()\n",
    "  print(finish_time - start_time)"
   ]
  },
  {
   "cell_type": "markdown",
   "metadata": {
    "colab_type": "text",
    "id": "Zj019LeWkKCh"
   },
   "source": [
    "# funckSVD 求法"
   ]
  },
  {
   "cell_type": "code",
   "execution_count": 41,
   "metadata": {
    "colab": {
     "base_uri": "https://localhost:8080/",
     "height": 122
    },
    "colab_type": "code",
    "executionInfo": {
     "elapsed": 162047,
     "status": "ok",
     "timestamp": 1597304859795,
     "user": {
      "displayName": "yongjun cao",
      "photoUrl": "",
      "userId": "03899306395699434223"
     },
     "user_tz": -540
    },
    "id": "DFbP30Fo4tos",
    "outputId": "2652474e-26e0-4295-8625-1f3c371caa64"
   },
   "outputs": [
    {
     "name": "stdout",
     "output_type": "stream",
     "text": [
      "RMSE: 0.8711\n",
      "RMSE: 0.8734\n",
      "RMSE: 0.8734\n",
      "user: 196        item: 302        r_ui = None   est = 4.30   {'was_impossible': False}\n",
      "160.4005148410797\n"
     ]
    }
   ],
   "source": [
    "test(SVD(biased=False))"
   ]
  },
  {
   "cell_type": "markdown",
   "metadata": {
    "colab_type": "text",
    "id": "dGUWCvyckWod"
   },
   "source": [
    "# BisasSVD 求法"
   ]
  },
  {
   "cell_type": "code",
   "execution_count": 42,
   "metadata": {
    "colab": {
     "base_uri": "https://localhost:8080/",
     "height": 122
    },
    "colab_type": "code",
    "executionInfo": {
     "elapsed": 317033,
     "status": "ok",
     "timestamp": 1597305018025,
     "user": {
      "displayName": "yongjun cao",
      "photoUrl": "",
      "userId": "03899306395699434223"
     },
     "user_tz": -540
    },
    "id": "14obPMNFkcil",
    "outputId": "30a2c588-823e-4748-ce40-457a7c38dd8f"
   },
   "outputs": [
    {
     "name": "stdout",
     "output_type": "stream",
     "text": [
      "RMSE: 0.8461\n",
      "RMSE: 0.8466\n",
      "RMSE: 0.8443\n",
      "user: 196        item: 302        r_ui = None   est = 4.31   {'was_impossible': False}\n",
      "157.11572790145874\n"
     ]
    }
   ],
   "source": [
    "test(SVD())"
   ]
  },
  {
   "cell_type": "markdown",
   "metadata": {
    "colab_type": "text",
    "id": "PVpxQuGxkh-K"
   },
   "source": [
    "# SVD++ 求法"
   ]
  },
  {
   "cell_type": "code",
   "execution_count": 43,
   "metadata": {
    "colab": {
     "base_uri": "https://localhost:8080/",
     "height": 0
    },
    "colab_type": "code",
    "executionInfo": {
     "elapsed": 370,
     "status": "ok",
     "timestamp": 1597315525534,
     "user": {
      "displayName": "yongjun cao",
      "photoUrl": "",
      "userId": "03899306395699434223"
     },
     "user_tz": -540
    },
    "id": "yEoqurj-kgPe",
    "outputId": "d2e7d4ad-0512-4d6f-c593-003b3c110339"
   },
   "outputs": [
    {
     "name": "stdout",
     "output_type": "stream",
     "text": [
      "RMSE: 0.8296\n",
      "RMSE: 0.8281\n",
      "RMSE: 0.8301\n",
      "user: 196        item: 302        r_ui = None   est = 3.85   {'was_impossible': False}\n",
      "8952.498970985413\n"
     ]
    }
   ],
   "source": [
    "test(SVDpp())"
   ]
  },
  {
   "cell_type": "code",
   "execution_count": null,
   "metadata": {
    "colab": {},
    "colab_type": "code",
    "id": "vY9JLeMvkzhL"
   },
   "outputs": [],
   "source": []
  }
 ],
 "metadata": {
  "colab": {
   "authorship_tag": "ABX9TyNtW+XVdoEJ17nzB9Hy8RgB",
   "mount_file_id": "18g2hKBjlab1-T-FP9Qg3bqjwe9ssmiz3",
   "name": "test_position.ipynb",
   "provenance": []
  },
  "kernelspec": {
   "display_name": "Python 3",
   "language": "python",
   "name": "python3"
  },
  "language_info": {
   "codemirror_mode": {
    "name": "ipython",
    "version": 3
   },
   "file_extension": ".py",
   "mimetype": "text/x-python",
   "name": "python",
   "nbconvert_exporter": "python",
   "pygments_lexer": "ipython3",
   "version": "3.7.6"
  }
 },
 "nbformat": 4,
 "nbformat_minor": 4
}
