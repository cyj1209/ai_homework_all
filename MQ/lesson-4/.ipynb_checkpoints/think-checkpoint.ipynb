{
 "cells": [
  {
   "cell_type": "markdown",
   "metadata": {},
   "source": [
    "# 奇异值分解SVD的原理是怎样的，都有哪些应用场景?"
   ]
  },
  {
   "cell_type": "markdown",
   "metadata": {},
   "source": [
    " - svd可以说是矩阵特征向量和特征值分解的加强版本。\n",
    " - 通常对于一个n x n的实对称矩阵，我们计算出他的特征值s，和特征矩阵W 可以得到以下结论。"
   ]
  },
  {
   "cell_type": "markdown",
   "metadata": {},
   "source": [
    "<p> A = W∑W <sup>T</sup> </p> 其中∑为对角线为特征值的对角矩阵。"
   ]
  },
  {
   "cell_type": "markdown",
   "metadata": {},
   "source": [
    "- 但是在实际应用中，A通常不是一个对称矩阵，因此引入了P(左奇异矩阵)AA<sup>T</sup> 和Q(右奇异矩阵)A<sup>T</sup>A,最终我们也可以得到以下结论。"
   ]
  },
  {
   "cell_type": "markdown",
   "metadata": {},
   "source": [
    " A = P∑Q （∑为对家乡为奇异值的对角矩阵）"
   ]
  },
  {
   "cell_type": "markdown",
   "metadata": {},
   "source": [
    " - 对于奇异值,它跟我们特征分解中的特征值类似，在奇异值矩阵中也是按照从大到小排列，而且奇异值的减少特别的快，在很多情况下，前10%甚至1%的奇异值的和就占了全部的奇异值之和的99%以上的比例。也就是说，我们也可以用最大的k个的奇异值和对应的左右奇异向量来近似描述矩阵。\n",
    " - 应用场景，降维算法、推荐系统、以及自然语言处理"
   ]
  },
  {
   "cell_type": "markdown",
   "metadata": {},
   "source": [
    "# funkSVD, BiasSVD，SVD++算法之间的区别是怎样的?"
   ]
  },
  {
   "cell_type": "markdown",
   "metadata": {},
   "source": [
    "- funkSVD 是基于SVD的简化版本，将SVD中分解为三个矩阵，改为分解为两个矩阵（P<sub>mxk</sub>Q<sub>kxn</sub>），最终利用PQ来预测数据。损失函数如下所示。\n"
   ]
  },
  {
   "cell_type": "markdown",
   "metadata": {},
   "source": [
    "$$\n",
    "\\sum_{i,j}(m_{ij}-q_j^Tp_i)^2\n",
    "$$"
   ]
  },
  {
   "cell_type": "markdown",
   "metadata": {},
   "source": [
    "- BiasSVD 是在funkSVD的基础上增加了偏好（Bias）"
   ]
  },
  {
   "cell_type": "markdown",
   "metadata": {},
   "source": [
    "$$\n",
    "b_{ij} = \\mu + b_i + b_j\n",
    "$$"
   ]
  },
  {
   "cell_type": "markdown",
   "metadata": {},
   "source": [
    "其中 μ表示所有记录的整体平均数,b<sub>i</sub>表示用户偏好,b<sub>j</sub>表示商品偏好，损失函数如下所示"
   ]
  },
  {
   "cell_type": "markdown",
   "metadata": {},
   "source": [
    "$$\n",
    "    \\sum_{i,j}(m_{ij}-\\mu-b_i-b_j-q_j^Tp_i)^2\n",
    "$$"
   ]
  },
  {
   "cell_type": "markdown",
   "metadata": {},
   "source": [
    "- SVD++ 在BiasSVD算法基础上进行了改进，考虑用户的隐式反馈."
   ]
  },
  {
   "cell_type": "markdown",
   "metadata": {},
   "source": [
    "# 矩阵分解算法在推荐系统中有哪些应用场景，存在哪些不足?"
   ]
  },
  {
   "cell_type": "markdown",
   "metadata": {},
   "source": [
    "- 应用场景，为用户评分预测，推荐用户评分高的商品\n",
    "- 不足之处\n",
    "    1. 模型训练比较费时。\n",
    "    2. 推荐结果不具有很好的可解释性，分解出来的用户和物品矩阵的每个维度无法和现实生活中的概念来解释，无法用现实概念给每个维度命名，只能理解为潜在语义空间。"
   ]
  },
  {
   "cell_type": "markdown",
   "metadata": {},
   "source": [
    "# 假设一个小说网站，有N部小说，每部小说都有摘要描述。如何针对该网站制定基于内容的推荐系统，即用户看了某部小说后，推荐其他相关的小说。原理和步骤是怎样的?"
   ]
  },
  {
   "cell_type": "markdown",
   "metadata": {},
   "source": [
    "- 特征工程\n",
    "    1. 将摘要和描述进行分词。\n",
    "    2. 生成词频矩阵\n",
    "    3. 将词频矩阵转换为TFIDF矩阵，可以看成是每部小说（item）在关键词（tag）的评分（item_tag）\n",
    "    4. 将用户阅读过的小说拿出来可以组成一个user_tag表，可以看到用户对每个关键词（tag）的关系\n",
    "- 算法选择\n",
    "    1. SimpleTagBased\n",
    "    2. NormTagBased\n",
    "    3. TagBased-TFIDF\n",
    "- 模型选择\n",
    "     应用上面的三个算法分别训练出模型选择最佳模型。"
   ]
  },
  {
   "cell_type": "markdown",
   "metadata": {},
   "source": [
    "# Word2Vec的应用场景有哪些?"
   ]
  },
  {
   "cell_type": "markdown",
   "metadata": {},
   "source": [
    "- 社交网络中的可以做大V推荐\n",
    "- 计算商品的相识都"
   ]
  },
  {
   "cell_type": "code",
   "execution_count": null,
   "metadata": {},
   "outputs": [],
   "source": []
  }
 ],
 "metadata": {
  "kernelspec": {
   "display_name": "Python 3",
   "language": "python",
   "name": "python3"
  },
  "language_info": {
   "codemirror_mode": {
    "name": "ipython",
    "version": 3
   },
   "file_extension": ".py",
   "mimetype": "text/x-python",
   "name": "python",
   "nbconvert_exporter": "python",
   "pygments_lexer": "ipython3",
   "version": "3.7.6"
  }
 },
 "nbformat": 4,
 "nbformat_minor": 4
}
