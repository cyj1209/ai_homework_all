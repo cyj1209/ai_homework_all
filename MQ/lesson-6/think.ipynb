{
 "cells": [
  {
   "cell_type": "markdown",
   "metadata": {},
   "source": [
    "# 一、 什么是近似最近邻查找，常用的方法有哪些?"
   ]
  },
  {
   "cell_type": "markdown",
   "metadata": {},
   "source": [
    "- 近似最近邻查找，字面意思来看就是对最近邻查找的近似，我们先了解一下什么是最近邻查找（最邻近搜索）。\n",
    "- 最邻近搜索（Nearest Neighbor Search, NNS）又称为“最近点搜索”（Closest point search），是一个在尺度空间中寻找最近点的优化问题。问题描述如下：在尺度空间M中给定一个点集S和一个目标点q ∈ M，在S中找到距离q最近的点。很多情况下，M为多维的欧几里得空间，距离由欧几里得距离或曼哈顿距离决定。\n",
    "- 根据上面的最近邻搜索的定义，我们实际问题中的S（样本数量）通常是一个百万数量级色集合，而M的维度通常也是千以上的数量集。在实际生产环境中NSS因为时效性的问题已经不足以解决最近邻查找的问题了。\n",
    "- 近似最近邻查找（Approximate Nearest Neighbor）在牺牲可接受范围内的精度的情况下提高检索效率。\n",
    "- 常用方法 MinHash LSH"
   ]
  },
  {
   "cell_type": "markdown",
   "metadata": {},
   "source": [
    "# 二、 为什么两个集合的minhash值相同的概率等于这两个集合的Jaccard相似度"
   ]
  },
  {
   "cell_type": "markdown",
   "metadata": {},
   "source": [
    "- Jaccard相似度 \n",
    "$$\n",
    "SIM(C_i,C_j) = \\frac{|C_i \\cap C_j|}{|C_i \\cup C_j|}\n",
    "$$\n",
    "相当于 i，j 同时为1 的行数 / i,j 不全为0的行数\n",
    "- MinHash ：按照行进行随机扰动(permutaion)之后，从上到下 每一列(每一个集合)的第一个等于1的元素所在的当前行号定义为MinHash的值。\n",
    "    对于集合i和j的每一行元素可以分为三类：\n",
    "    - X类 均为1。\n",
    "    - Y类 一个为1，另一个为0。\n",
    "    - Z类 均为0\n",
    "$$ P(MinHash(i)=MinHash(j)) = \\frac{X}{X+Y} $$\n",
    "也相当于  i，j 同时为1 的行数 / i,j 不全为0的行数"
   ]
  },
  {
   "cell_type": "markdown",
   "metadata": {},
   "source": [
    "# 三、 SimHash在计算文档相似度的作用是怎样的？"
   ]
  },
  {
   "cell_type": "markdown",
   "metadata": {},
   "source": [
    "- SimHash是一种局部敏感hash算法可以将原始的文本内容映射为数字（hash签名），而且较为相近的文本内容对应的hash签名也比较相近。通常用来计算海量长文本的相识度。\n",
    "- SimHash流程实现\n",
    "    1. 分词，把需要判断文本分词形成这个文章的特征单词。最后形成去掉噪音词的单词序列并为每个词加上权重。\n",
    "    2. hash，通过hash算法把每个词变成hash值。\n",
    "    3. 加权，通过步骤2的hash生成结果，需要按照单词的权重形成加权数字串，比如哈希值[0,0,1,0,1]，权重为6加权后变换为[-6，-6，6，-6，6] 。\n",
    "    4. 合并，把步骤3各个单词算出来的序列值累加，变成只有一个序列串。\n",
    "    5. 降维，把步骤4得到的结果转换为01序列，大于0 记为 1，小于0 记为 0。例如[9 -9 1 -1 1 9]转换为[1 0 1 0 1 1]。\n",
    "- 每篇文档得到SimHash签名值后，接着计算两个签名的海明距离即可。根据经验值，对64位的 SimHash值，海明距离在3以内的可认为相似度比较高。\n",
    "    - 海明距离的求法：异或时，只有在两个比较的位不同时其结果是1 ，否则结果为0，两个二进制“异或”后得到1的个数即为海明距离的大小。"
   ]
  },
  {
   "cell_type": "markdown",
   "metadata": {},
   "source": [
    "# 四、 为什么YouTube采用期望观看时间作为评估指标"
   ]
  },
  {
   "cell_type": "markdown",
   "metadata": {},
   "source": [
    "- YouTube是视频网站CTR指标对于视频搜索具有一定的欺骗性。不能说点击了就是看了这个视频。\n",
    "- 观看时长对YouTube更具有商业价值。比如对应广告的投放观看时长长的可以投放长一点的广告。"
   ]
  },
  {
   "cell_type": "code",
   "execution_count": null,
   "metadata": {},
   "outputs": [],
   "source": []
  }
 ],
 "metadata": {
  "kernelspec": {
   "display_name": "Python 3",
   "language": "python",
   "name": "python3"
  },
  "language_info": {
   "codemirror_mode": {
    "name": "ipython",
    "version": 3
   },
   "file_extension": ".py",
   "mimetype": "text/x-python",
   "name": "python",
   "nbconvert_exporter": "python",
   "pygments_lexer": "ipython3",
   "version": "3.7.6"
  }
 },
 "nbformat": 4,
 "nbformat_minor": 4
}
