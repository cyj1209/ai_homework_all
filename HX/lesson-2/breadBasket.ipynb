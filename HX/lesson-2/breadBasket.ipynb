{
 "cells": [
  {
   "cell_type": "code",
   "execution_count": 1,
   "metadata": {},
   "outputs": [],
   "source": [
    "import pandas as pd"
   ]
  },
  {
   "cell_type": "code",
   "execution_count": 2,
   "metadata": {},
   "outputs": [],
   "source": [
    "data = pd.read_csv('./BreadBasket_DMS.csv')"
   ]
  },
  {
   "cell_type": "code",
   "execution_count": 3,
   "metadata": {},
   "outputs": [
    {
     "data": {
      "text/plain": [
       "Index(['Date', 'Time', 'Transaction', 'Item'], dtype='object')"
      ]
     },
     "execution_count": 3,
     "metadata": {},
     "output_type": "execute_result"
    }
   ],
   "source": [
    "data.keys()"
   ]
  },
  {
   "cell_type": "code",
   "execution_count": 4,
   "metadata": {},
   "outputs": [],
   "source": [
    "data['Item'] = data['Item'].str.lower()"
   ]
  },
  {
   "cell_type": "code",
   "execution_count": 5,
   "metadata": {},
   "outputs": [],
   "source": [
    "data = data.drop(data[data.Item == 'none'].index)"
   ]
  },
  {
   "cell_type": "code",
   "execution_count": 6,
   "metadata": {},
   "outputs": [
    {
     "name": "stdout",
     "output_type": "stream",
     "text": [
      "         Date      Time  Transaction           Item\n",
      "1  2016/10/30  10:05:34            2   scandinavian\n",
      "2  2016/10/30  10:05:34            2   scandinavian\n",
      "3  2016/10/30  10:07:57            3  hot chocolate\n",
      "4  2016/10/30  10:07:57            3            jam\n",
      "5  2016/10/30  10:07:57            3        cookies\n"
     ]
    }
   ],
   "source": [
    "print(data.head())"
   ]
  },
  {
   "cell_type": "code",
   "execution_count": 7,
   "metadata": {},
   "outputs": [],
   "source": [
    "order_series = data.set_index('Transaction')['Item']"
   ]
  },
  {
   "cell_type": "code",
   "execution_count": 8,
   "metadata": {},
   "outputs": [
    {
     "name": "stdout",
     "output_type": "stream",
     "text": [
      "Transaction\n",
      "2     scandinavian\n",
      "2     scandinavian\n",
      "3    hot chocolate\n",
      "3              jam\n",
      "3          cookies\n",
      "Name: Item, dtype: object\n"
     ]
    }
   ],
   "source": [
    "print(order_series.head())"
   ]
  },
  {
   "cell_type": "code",
   "execution_count": 9,
   "metadata": {},
   "outputs": [],
   "source": [
    "now_index = 0\n",
    "transactions = []\n",
    "for i,v in order_series.items():\n",
    "    if now_index !=i:\n",
    "        #新的订单\n",
    "        s = set()\n",
    "        now_index = i\n",
    "        s.add(v)\n",
    "        transactions.append(s)\n",
    "    else:\n",
    "        s.add(v)"
   ]
  },
  {
   "cell_type": "code",
   "execution_count": 12,
   "metadata": {},
   "outputs": [
    {
     "name": "stdout",
     "output_type": "stream",
     "text": [
      "[{'scandinavian'}, {'hot chocolate', 'cookies', 'jam'}, {'muffin'}, {'bread', 'coffee', 'pastry'}, {'muffin', 'pastry', 'medialuna'}]\n"
     ]
    }
   ],
   "source": [
    "print(transactions[0:5])"
   ]
  },
  {
   "cell_type": "code",
   "execution_count": 22,
   "metadata": {},
   "outputs": [],
   "source": [
    "from efficient_apriori import apriori"
   ]
  },
  {
   "cell_type": "code",
   "execution_count": 17,
   "metadata": {
    "collapsed": true,
    "jupyter": {
     "outputs_hidden": true
    }
   },
   "outputs": [
    {
     "name": "stdout",
     "output_type": "stream",
     "text": [
      "Help on function apriori in module mlxtend.frequent_patterns.apriori:\n",
      "\n",
      "apriori(df, min_support=0.5, use_colnames=False, max_len=None, verbose=0, low_memory=False)\n",
      "    Get frequent itemsets from a one-hot DataFrame\n",
      "    \n",
      "    Parameters\n",
      "    -----------\n",
      "    df : pandas DataFrame\n",
      "      pandas DataFrame the encoded format. Also supports\n",
      "      DataFrames with sparse data; for more info, please\n",
      "      see (https://pandas.pydata.org/pandas-docs/stable/\n",
      "           user_guide/sparse.html#sparse-data-structures)\n",
      "    \n",
      "      Please note that the old pandas SparseDataFrame format\n",
      "      is no longer supported in mlxtend >= 0.17.2.\n",
      "    \n",
      "      The allowed values are either 0/1 or True/False.\n",
      "      For example,\n",
      "    \n",
      "    ```\n",
      "             Apple  Bananas   Beer  Chicken   Milk   Rice\n",
      "        0     True    False   True     True  False   True\n",
      "        1     True    False   True    False  False   True\n",
      "        2     True    False   True    False  False  False\n",
      "        3     True     True  False    False  False  False\n",
      "        4    False    False   True     True   True   True\n",
      "        5    False    False   True    False   True   True\n",
      "        6    False    False   True    False   True  False\n",
      "        7     True     True  False    False  False  False\n",
      "    ```\n",
      "    \n",
      "    min_support : float (default: 0.5)\n",
      "      A float between 0 and 1 for minumum support of the itemsets returned.\n",
      "      The support is computed as the fraction\n",
      "      `transactions_where_item(s)_occur / total_transactions`.\n",
      "    \n",
      "    use_colnames : bool (default: False)\n",
      "      If `True`, uses the DataFrames' column names in the returned DataFrame\n",
      "      instead of column indices.\n",
      "    \n",
      "    max_len : int (default: None)\n",
      "      Maximum length of the itemsets generated. If `None` (default) all\n",
      "      possible itemsets lengths (under the apriori condition) are evaluated.\n",
      "    \n",
      "    verbose : int (default: 0)\n",
      "      Shows the number of iterations if >= 1 and `low_memory` is `True`. If\n",
      "      >=1 and `low_memory` is `False`, shows the number of combinations.\n",
      "    \n",
      "    low_memory : bool (default: False)\n",
      "      If `True`, uses an iterator to search for combinations above\n",
      "      `min_support`.\n",
      "      Note that while `low_memory=True` should only be used for large dataset\n",
      "      if memory resources are limited, because this implementation is approx.\n",
      "      3-6x slower than the default.\n",
      "    \n",
      "    \n",
      "    Returns\n",
      "    -----------\n",
      "    pandas DataFrame with columns ['support', 'itemsets'] of all itemsets\n",
      "      that are >= `min_support` and < than `max_len`\n",
      "      (if `max_len` is not None).\n",
      "      Each itemset in the 'itemsets' column is of type `frozenset`,\n",
      "      which is a Python built-in type that behaves similarly to\n",
      "      sets except that it is immutable\n",
      "      (For more info, see\n",
      "      https://docs.python.org/3.6/library/stdtypes.html#frozenset).\n",
      "    \n",
      "    Examples\n",
      "    -----------\n",
      "    For usage examples, please see\n",
      "    http://rasbt.github.io/mlxtend/user_guide/frequent_patterns/apriori/\n",
      "\n"
     ]
    }
   ],
   "source": [
    "help(apriori)"
   ]
  },
  {
   "cell_type": "code",
   "execution_count": 19,
   "metadata": {},
   "outputs": [],
   "source": [
    "df = pd.DataFrame(transactions)"
   ]
  },
  {
   "cell_type": "code",
   "execution_count": 21,
   "metadata": {},
   "outputs": [
    {
     "name": "stdout",
     "output_type": "stream",
     "text": [
      "               0        1          2     3     4     5     6     7     8     9\n",
      "0   scandinavian     None       None  None  None  None  None  None  None  None\n",
      "1  hot chocolate  cookies        jam  None  None  None  None  None  None  None\n",
      "2         muffin     None       None  None  None  None  None  None  None  None\n",
      "3          bread   coffee     pastry  None  None  None  None  None  None  None\n",
      "4         muffin   pastry  medialuna  None  None  None  None  None  None  None\n"
     ]
    }
   ],
   "source": [
    "print(df.head())"
   ]
  },
  {
   "cell_type": "code",
   "execution_count": 23,
   "metadata": {},
   "outputs": [],
   "source": [
    "itemsets,rules = apriori(transactions,min_support = 0.02)"
   ]
  },
  {
   "cell_type": "code",
   "execution_count": 24,
   "metadata": {},
   "outputs": [
    {
     "name": "stdout",
     "output_type": "stream",
     "text": [
      "{1: {('scandinavian',): 275, ('hot chocolate',): 552, ('cookies',): 515, ('muffin',): 364, ('bread',): 3096, ('coffee',): 4528, ('pastry',): 815, ('medialuna',): 585, ('tea',): 1350, ('farm house',): 371, ('juice',): 365, ('soup',): 326, ('cake',): 983, ('sandwich',): 680, ('alfajores',): 344, ('brownie',): 379, ('truffles',): 192, ('toast',): 318, ('scone',): 327}, 2: {('bread', 'coffee'): 852, ('bread', 'pastry'): 276, ('coffee', 'pastry'): 450, ('coffee', 'medialuna'): 333, ('coffee', 'tea'): 472, ('bread', 'tea'): 266, ('coffee', 'juice'): 195, ('coffee', 'hot chocolate'): 280, ('coffee', 'cookies'): 267, ('cake', 'coffee'): 518, ('cake', 'tea'): 225, ('bread', 'cake'): 221, ('coffee', 'sandwich'): 362, ('coffee', 'toast'): 224}}\n"
     ]
    }
   ],
   "source": [
    "print(itemsets)"
   ]
  },
  {
   "cell_type": "code",
   "execution_count": 25,
   "metadata": {},
   "outputs": [
    {
     "name": "stdout",
     "output_type": "stream",
     "text": [
      "[{pastry} -> {coffee}, {medialuna} -> {coffee}, {juice} -> {coffee}, {hot chocolate} -> {coffee}, {cookies} -> {coffee}, {cake} -> {coffee}, {sandwich} -> {coffee}, {toast} -> {coffee}]\n"
     ]
    }
   ],
   "source": [
    "print(rules)"
   ]
  },
  {
   "cell_type": "code",
   "execution_count": null,
   "metadata": {},
   "outputs": [],
   "source": []
  }
 ],
 "metadata": {
  "kernelspec": {
   "display_name": "Python 3",
   "language": "python",
   "name": "python3"
  },
  "language_info": {
   "codemirror_mode": {
    "name": "ipython",
    "version": 3
   },
   "file_extension": ".py",
   "mimetype": "text/x-python",
   "name": "python",
   "nbconvert_exporter": "python",
   "pygments_lexer": "ipython3",
   "version": "3.7.6"
  }
 },
 "nbformat": 4,
 "nbformat_minor": 4
}
